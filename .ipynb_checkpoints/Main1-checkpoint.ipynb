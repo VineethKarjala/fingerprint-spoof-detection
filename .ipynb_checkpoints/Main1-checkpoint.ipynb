{
 "cells": [
  {
   "cell_type": "code",
   "execution_count": 2,
   "metadata": {
    "scrolled": true
   },
   "outputs": [],
   "source": [
    "import matplotlib.pyplot as plt\n",
    "from skimage.io import imread\n",
    "from skimage.feature import hog,local_binary_pattern\n",
    "import glob\n",
    "import numpy as np\n",
    "from sklearn import svm\n",
    "from skimage import feature\n",
    "from sklearn.metrics import classification_report\n",
    "from skimage.color import rgb2gray"
   ]
  },
  {
   "cell_type": "code",
   "execution_count": 5,
   "metadata": {},
   "outputs": [],
   "source": [
    "# import training data\n",
    "live_train = glob.glob('data/Training Biometrika Live/*.png') #positive\n",
    "spoof_train = glob.glob('data/Training Biometrika Spoof/*.png') # negative\n",
    "\n",
    "# import testing data\n",
    "live_test = glob.glob('data/test_live/live/*.png') # positive\n",
    "spoof_test = glob.glob('data/Testing Biometrika Spoof/*.png') # negative"
   ]
  },
  {
   "cell_type": "code",
   "execution_count": 6,
   "metadata": {},
   "outputs": [
    {
     "data": {
      "text/plain": [
       "['data/test_live/live\\\\10_1.png',\n",
       " 'data/test_live/live\\\\10_2.png',\n",
       " 'data/test_live/live\\\\10_3.png',\n",
       " 'data/test_live/live\\\\10_4.png',\n",
       " 'data/test_live/live\\\\10_5.png',\n",
       " 'data/test_live/live\\\\11_1.png',\n",
       " 'data/test_live/live\\\\11_2.png',\n",
       " 'data/test_live/live\\\\11_3.png',\n",
       " 'data/test_live/live\\\\11_4.png',\n",
       " 'data/test_live/live\\\\11_5.png',\n",
       " 'data/test_live/live\\\\12_1.png',\n",
       " 'data/test_live/live\\\\12_2.png',\n",
       " 'data/test_live/live\\\\12_3.png',\n",
       " 'data/test_live/live\\\\12_4.png',\n",
       " 'data/test_live/live\\\\12_5.png',\n",
       " 'data/test_live/live\\\\13_1.png',\n",
       " 'data/test_live/live\\\\13_2.png',\n",
       " 'data/test_live/live\\\\13_3.png',\n",
       " 'data/test_live/live\\\\13_4.png',\n",
       " 'data/test_live/live\\\\13_5.png',\n",
       " 'data/test_live/live\\\\14_1.png',\n",
       " 'data/test_live/live\\\\14_2.png',\n",
       " 'data/test_live/live\\\\14_3.png',\n",
       " 'data/test_live/live\\\\14_4.png',\n",
       " 'data/test_live/live\\\\14_5.png',\n",
       " 'data/test_live/live\\\\15_1.png',\n",
       " 'data/test_live/live\\\\15_2.png',\n",
       " 'data/test_live/live\\\\15_3.png',\n",
       " 'data/test_live/live\\\\15_4.png',\n",
       " 'data/test_live/live\\\\15_5.png',\n",
       " 'data/test_live/live\\\\16_1.png',\n",
       " 'data/test_live/live\\\\16_2.png',\n",
       " 'data/test_live/live\\\\16_3.png',\n",
       " 'data/test_live/live\\\\16_4.png',\n",
       " 'data/test_live/live\\\\16_5.png',\n",
       " 'data/test_live/live\\\\17_1.png',\n",
       " 'data/test_live/live\\\\17_2.png',\n",
       " 'data/test_live/live\\\\17_3.png',\n",
       " 'data/test_live/live\\\\17_4.png',\n",
       " 'data/test_live/live\\\\17_5.png',\n",
       " 'data/test_live/live\\\\18_1.png',\n",
       " 'data/test_live/live\\\\18_2.png',\n",
       " 'data/test_live/live\\\\18_3.png',\n",
       " 'data/test_live/live\\\\18_4.png',\n",
       " 'data/test_live/live\\\\18_5.png',\n",
       " 'data/test_live/live\\\\19_1.png',\n",
       " 'data/test_live/live\\\\19_2.png',\n",
       " 'data/test_live/live\\\\19_3.png',\n",
       " 'data/test_live/live\\\\19_4.png',\n",
       " 'data/test_live/live\\\\19_5.png',\n",
       " 'data/test_live/live\\\\1_1.png',\n",
       " 'data/test_live/live\\\\1_2.png',\n",
       " 'data/test_live/live\\\\1_3.png',\n",
       " 'data/test_live/live\\\\1_4.png',\n",
       " 'data/test_live/live\\\\1_5.png',\n",
       " 'data/test_live/live\\\\20_1.png',\n",
       " 'data/test_live/live\\\\20_2.png',\n",
       " 'data/test_live/live\\\\20_3.png',\n",
       " 'data/test_live/live\\\\20_4.png',\n",
       " 'data/test_live/live\\\\20_5.png',\n",
       " 'data/test_live/live\\\\21_1.png',\n",
       " 'data/test_live/live\\\\21_2.png',\n",
       " 'data/test_live/live\\\\21_3.png',\n",
       " 'data/test_live/live\\\\21_4.png',\n",
       " 'data/test_live/live\\\\21_5.png',\n",
       " 'data/test_live/live\\\\22_1.png',\n",
       " 'data/test_live/live\\\\22_2.png',\n",
       " 'data/test_live/live\\\\22_3.png',\n",
       " 'data/test_live/live\\\\22_4.png',\n",
       " 'data/test_live/live\\\\22_5.png',\n",
       " 'data/test_live/live\\\\23_1.png',\n",
       " 'data/test_live/live\\\\23_2.png',\n",
       " 'data/test_live/live\\\\23_3.png',\n",
       " 'data/test_live/live\\\\23_4.png',\n",
       " 'data/test_live/live\\\\23_5.png',\n",
       " 'data/test_live/live\\\\24_1.png',\n",
       " 'data/test_live/live\\\\24_2.png',\n",
       " 'data/test_live/live\\\\24_3.png',\n",
       " 'data/test_live/live\\\\24_4.png',\n",
       " 'data/test_live/live\\\\24_5.png',\n",
       " 'data/test_live/live\\\\25_1.png',\n",
       " 'data/test_live/live\\\\25_2.png',\n",
       " 'data/test_live/live\\\\25_3.png',\n",
       " 'data/test_live/live\\\\25_4.png',\n",
       " 'data/test_live/live\\\\25_5.png',\n",
       " 'data/test_live/live\\\\26_1.png',\n",
       " 'data/test_live/live\\\\26_2.png',\n",
       " 'data/test_live/live\\\\26_3.png',\n",
       " 'data/test_live/live\\\\26_4.png',\n",
       " 'data/test_live/live\\\\26_5.png',\n",
       " 'data/test_live/live\\\\27_1.png',\n",
       " 'data/test_live/live\\\\27_2.png',\n",
       " 'data/test_live/live\\\\27_3.png',\n",
       " 'data/test_live/live\\\\27_4.png',\n",
       " 'data/test_live/live\\\\27_5.png',\n",
       " 'data/test_live/live\\\\28_1.png',\n",
       " 'data/test_live/live\\\\28_2.png',\n",
       " 'data/test_live/live\\\\28_3.png',\n",
       " 'data/test_live/live\\\\28_4.png',\n",
       " 'data/test_live/live\\\\28_5.png',\n",
       " 'data/test_live/live\\\\29_1.png',\n",
       " 'data/test_live/live\\\\29_2.png',\n",
       " 'data/test_live/live\\\\29_3.png',\n",
       " 'data/test_live/live\\\\29_4.png',\n",
       " 'data/test_live/live\\\\29_5.png',\n",
       " 'data/test_live/live\\\\2_1.png',\n",
       " 'data/test_live/live\\\\2_2.png',\n",
       " 'data/test_live/live\\\\2_3.png',\n",
       " 'data/test_live/live\\\\2_4.png',\n",
       " 'data/test_live/live\\\\2_5.png',\n",
       " 'data/test_live/live\\\\30_1.png',\n",
       " 'data/test_live/live\\\\30_2.png',\n",
       " 'data/test_live/live\\\\30_3.png',\n",
       " 'data/test_live/live\\\\30_4.png',\n",
       " 'data/test_live/live\\\\30_5.png',\n",
       " 'data/test_live/live\\\\31_1.png',\n",
       " 'data/test_live/live\\\\31_2.png',\n",
       " 'data/test_live/live\\\\31_3.png',\n",
       " 'data/test_live/live\\\\31_4.png',\n",
       " 'data/test_live/live\\\\31_5.png',\n",
       " 'data/test_live/live\\\\32_1.png',\n",
       " 'data/test_live/live\\\\32_2.png',\n",
       " 'data/test_live/live\\\\32_3.png',\n",
       " 'data/test_live/live\\\\32_4.png',\n",
       " 'data/test_live/live\\\\32_5.png',\n",
       " 'data/test_live/live\\\\33_1.png',\n",
       " 'data/test_live/live\\\\33_2.png',\n",
       " 'data/test_live/live\\\\33_3.png',\n",
       " 'data/test_live/live\\\\33_4.png',\n",
       " 'data/test_live/live\\\\33_5.png',\n",
       " 'data/test_live/live\\\\34_1.png',\n",
       " 'data/test_live/live\\\\34_2.png',\n",
       " 'data/test_live/live\\\\34_3.png',\n",
       " 'data/test_live/live\\\\34_4.png',\n",
       " 'data/test_live/live\\\\34_5.png',\n",
       " 'data/test_live/live\\\\35_1.png',\n",
       " 'data/test_live/live\\\\35_2.png',\n",
       " 'data/test_live/live\\\\35_3.png',\n",
       " 'data/test_live/live\\\\35_4.png',\n",
       " 'data/test_live/live\\\\35_5.png',\n",
       " 'data/test_live/live\\\\36_1.png',\n",
       " 'data/test_live/live\\\\36_2.png',\n",
       " 'data/test_live/live\\\\36_3.png',\n",
       " 'data/test_live/live\\\\36_4.png',\n",
       " 'data/test_live/live\\\\36_5.png',\n",
       " 'data/test_live/live\\\\37_1.png',\n",
       " 'data/test_live/live\\\\37_2.png',\n",
       " 'data/test_live/live\\\\37_3.png',\n",
       " 'data/test_live/live\\\\37_4.png',\n",
       " 'data/test_live/live\\\\37_5.png',\n",
       " 'data/test_live/live\\\\38_1.png',\n",
       " 'data/test_live/live\\\\38_2.png',\n",
       " 'data/test_live/live\\\\38_3.png',\n",
       " 'data/test_live/live\\\\38_4.png',\n",
       " 'data/test_live/live\\\\38_5.png',\n",
       " 'data/test_live/live\\\\39_1.png',\n",
       " 'data/test_live/live\\\\39_2.png',\n",
       " 'data/test_live/live\\\\39_3.png',\n",
       " 'data/test_live/live\\\\39_4.png',\n",
       " 'data/test_live/live\\\\39_5.png',\n",
       " 'data/test_live/live\\\\3_1.png',\n",
       " 'data/test_live/live\\\\3_2.png',\n",
       " 'data/test_live/live\\\\3_3.png',\n",
       " 'data/test_live/live\\\\3_4.png',\n",
       " 'data/test_live/live\\\\3_5.png',\n",
       " 'data/test_live/live\\\\40_1.png',\n",
       " 'data/test_live/live\\\\40_2.png',\n",
       " 'data/test_live/live\\\\40_3.png',\n",
       " 'data/test_live/live\\\\40_4.png',\n",
       " 'data/test_live/live\\\\40_5.png',\n",
       " 'data/test_live/live\\\\4_1.png',\n",
       " 'data/test_live/live\\\\4_2.png',\n",
       " 'data/test_live/live\\\\4_3.png',\n",
       " 'data/test_live/live\\\\4_4.png',\n",
       " 'data/test_live/live\\\\4_5.png',\n",
       " 'data/test_live/live\\\\5_1.png',\n",
       " 'data/test_live/live\\\\5_2.png',\n",
       " 'data/test_live/live\\\\5_3.png',\n",
       " 'data/test_live/live\\\\5_4.png',\n",
       " 'data/test_live/live\\\\5_5.png',\n",
       " 'data/test_live/live\\\\6_1.png',\n",
       " 'data/test_live/live\\\\6_2.png',\n",
       " 'data/test_live/live\\\\6_3.png',\n",
       " 'data/test_live/live\\\\6_4.png',\n",
       " 'data/test_live/live\\\\6_5.png',\n",
       " 'data/test_live/live\\\\7_1.png',\n",
       " 'data/test_live/live\\\\7_2.png',\n",
       " 'data/test_live/live\\\\7_3.png',\n",
       " 'data/test_live/live\\\\7_4.png',\n",
       " 'data/test_live/live\\\\7_5.png',\n",
       " 'data/test_live/live\\\\8_1.png',\n",
       " 'data/test_live/live\\\\8_2.png',\n",
       " 'data/test_live/live\\\\8_3.png',\n",
       " 'data/test_live/live\\\\8_4.png',\n",
       " 'data/test_live/live\\\\8_5.png',\n",
       " 'data/test_live/live\\\\9_1.png',\n",
       " 'data/test_live/live\\\\9_2.png',\n",
       " 'data/test_live/live\\\\9_3.png',\n",
       " 'data/test_live/live\\\\9_4.png',\n",
       " 'data/test_live/live\\\\9_5.png']"
      ]
     },
     "execution_count": 6,
     "metadata": {},
     "output_type": "execute_result"
    }
   ],
   "source": [
    "live_test"
   ]
  },
  {
   "cell_type": "code",
   "execution_count": 11,
   "metadata": {},
   "outputs": [],
   "source": [
    "# initialize empty lists to append data\n",
    "live_train_images = []\n",
    "spoof_train_images = []\n",
    "live_test_images = []\n",
    "spoof_test_images = []\n",
    "\n",
    "# read images from given path and append to the variavles\n",
    "for path in live_train: live_train_images.append(imread(path))\n",
    "for path in spoof_train: spoof_train_images.append(imread(path))\n",
    "for path in live_test: live_test_images.append(imread(path))\n",
    "for path in spoof_test: spoof_test_images.append(imread(path))"
   ]
  },
  {
   "cell_type": "code",
   "execution_count": 12,
   "metadata": {},
   "outputs": [],
   "source": [
    "# convert images to np arrays\n",
    "live_train_images, spoof_train_images = np.asarray(live_train_images), np.asarray(spoof_train_images)\n",
    "live_test_images, spoof_test_images = np.asarray(live_test_images), np.asarray(spoof_test_images)"
   ]
  },
  {
   "cell_type": "code",
   "execution_count": 13,
   "metadata": {},
   "outputs": [],
   "source": [
    "# change the type of feature you want to use here\n",
    "feature_type = \"lbp\" #hog or lbp\n",
    "\n",
    "# initialize empty lists to append features\n",
    "live_train_features, spoof_train_features = [], []\n",
    "live_test_features, spoof_test_features = [], []\n",
    "\n",
    "if(feature_type == \"hog\"):\n",
    "    \n",
    "    # calculate and store hog features of training data\n",
    "    for live_img, spoof_img in zip(live_train_images, spoof_train_images):\n",
    "        live_train_features.append(hog(live_img, feature_vector = True))\n",
    "        spoof_train_features.append(hog(spoof_img, feature_vector = True))\n",
    "    \n",
    "    # calculate and store hog features of testing data\n",
    "    for live_img, spoof_img in zip(live_test_images, spoof_test_images):\n",
    "        live_test_features.append(hog(live_img, feature_vector = True))\n",
    "        spoof_test_features.append(hog(spoof_img, feature_vector = True))\n",
    "        \n",
    "if(feature_type == \"lbp\"):\n",
    "\n",
    "# parameters copied from scikit docs of lbp\n",
    "    METHOD = 'uniform'\n",
    "    R = 3\n",
    "    P = 8 * R\n",
    "\n",
    "    # calculate and store lbp features of training data\n",
    "    for live_img, spoof_img in zip(live_train_images, spoof_train_images):\n",
    "        live_img = rgb2gray(live_img)\n",
    "        spoof_img = rgb2gray(spoof_img)\n",
    "        live_train_features.append(local_binary_pattern(live_img, P, R, METHOD).flatten())\n",
    "        spoof_train_features.append(local_binary_pattern(spoof_img, P, R, METHOD).flatten())\n",
    "    \n",
    "    # calculate and store lbp features of training data   \n",
    "    for live_img, spoof_img in zip(live_test_images, spoof_test_images):\n",
    "        # convert rgb to gray\n",
    "        live_img = rgb2gray(live_img)\n",
    "        # convert rgb to gray\n",
    "        spoof_img = rgb2gray(spoof_img)\n",
    "        live_test_features.append(local_binary_pattern(live_img, P, R, METHOD).flatten())\n",
    "        spoof_test_features.append(local_binary_pattern(spoof_img, P, R, METHOD).flatten())"
   ]
  },
  {
   "cell_type": "code",
   "execution_count": 14,
   "metadata": {},
   "outputs": [],
   "source": [
    "# define labels 1 for live and 0 for spoof\n",
    "# i.e. create a list of 200 1's and 200 0's \n",
    "labels_train = [[1]]*len(live_train_features) + [[0]]*len(spoof_train_features)\n",
    "\n",
    "# merge both positive and negative training data\n",
    "full_train = live_train_features + spoof_train_features\n",
    "\n",
    "# assign labels for all test data, 1 for positive, 0 for negative\n",
    "labels_test = [[1]]*len(live_test_features) + [[0]]*len(spoof_test_features)\n",
    "\n",
    "# merge both positive and negative training data\n",
    "full_test = live_test_features + spoof_test_features\n"
   ]
  },
  {
   "cell_type": "code",
   "execution_count": 15,
   "metadata": {},
   "outputs": [
    {
     "data": {
      "text/plain": [
       "0"
      ]
     },
     "execution_count": 15,
     "metadata": {},
     "output_type": "execute_result"
    }
   ],
   "source": [
    "len(labels_train)"
   ]
  },
  {
   "cell_type": "code",
   "execution_count": 57,
   "metadata": {},
   "outputs": [],
   "source": [
    "clf = svm.SVC()\n",
    "features_train = np.array(full_train)\n",
    "features_test = np.array(full_test)\n",
    "\n",
    "# stack features and labels together\n",
    "data_frame_train = np.hstack((features_train,labels_train))\n",
    "\n",
    "# shuffle train data\n",
    "np.random.shuffle(data_frame_train)"
   ]
  },
  {
   "cell_type": "code",
   "execution_count": 58,
   "metadata": {},
   "outputs": [],
   "source": [
    "# split features and labels of train data\n",
    "x_train = data_frame_train[:len(data_frame_train),:-1]\n",
    "y_train = data_frame_train[:len(data_frame_train),-1]\n",
    "\n",
    "# ready test data and labels\n",
    "x_test = features_test\n",
    "y_test = labels_test"
   ]
  },
  {
   "cell_type": "code",
   "execution_count": 59,
   "metadata": {},
   "outputs": [
    {
     "data": {
      "text/plain": [
       "SVC()"
      ]
     },
     "execution_count": 59,
     "metadata": {},
     "output_type": "execute_result"
    }
   ],
   "source": [
    "# fit the model with train set\n",
    "clf.fit(x_train,y_train)"
   ]
  },
  {
   "cell_type": "code",
   "execution_count": 60,
   "metadata": {},
   "outputs": [],
   "source": [
    "# predict labels: y_pred from x_test\n",
    "y_pred = clf.predict(x_test)"
   ]
  },
  {
   "cell_type": "code",
   "execution_count": 48,
   "metadata": {},
   "outputs": [
    {
     "name": "stdout",
     "output_type": "stream",
     "text": [
      "              precision    recall  f1-score   support\n",
      "\n",
      "           0       0.79      0.94      0.86       200\n",
      "           1       0.93      0.74      0.83       200\n",
      "\n",
      "    accuracy                           0.84       400\n",
      "   macro avg       0.86      0.84      0.84       400\n",
      "weighted avg       0.86      0.84      0.84       400\n",
      "\n"
     ]
    }
   ],
   "source": [
    "# calculate other metrics\n",
    "print(classification_report(y_test, y_pred))\n",
    "\n",
    "# hog: (0.859375, 0.845, 0.8434343434343435, None)\n",
    "# lbp: (0.9303430011968119, 0.9225, 0.9221452744065148, None)"
   ]
  },
  {
   "cell_type": "code",
   "execution_count": 61,
   "metadata": {},
   "outputs": [
    {
     "name": "stdout",
     "output_type": "stream",
     "text": [
      "              precision    recall  f1-score   support\n",
      "\n",
      "           0       0.87      0.99      0.93       200\n",
      "           1       0.99      0.85      0.92       200\n",
      "\n",
      "    accuracy                           0.92       400\n",
      "   macro avg       0.93      0.92      0.92       400\n",
      "weighted avg       0.93      0.92      0.92       400\n",
      "\n"
     ]
    }
   ],
   "source": [
    "print(classification_report(y_test, y_pred))"
   ]
  },
  {
   "cell_type": "code",
   "execution_count": null,
   "metadata": {},
   "outputs": [],
   "source": []
  }
 ],
 "metadata": {
  "kernelspec": {
   "display_name": "Python 3 (ipykernel)",
   "language": "python",
   "name": "python3"
  },
  "language_info": {
   "codemirror_mode": {
    "name": "ipython",
    "version": 3
   },
   "file_extension": ".py",
   "mimetype": "text/x-python",
   "name": "python",
   "nbconvert_exporter": "python",
   "pygments_lexer": "ipython3",
   "version": "3.9.13"
  }
 },
 "nbformat": 4,
 "nbformat_minor": 2
}
